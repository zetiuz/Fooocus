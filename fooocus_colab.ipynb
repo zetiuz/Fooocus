{
 "cells": [
  {
   "cell_type": "code",
   "execution_count": null,
   "metadata": {
    "id": "VjYy0F2gZIPR"
   },
   "outputs": [],
   "source": [
    "# Remove unused folders\n",
    "!rm -rf /content/sample_data\n",
    "\n",
    "%cd /content\n",
    "!git clone https://github.com/zetiuz/Fooocus.git\n",
    "\n",
    "# Download LoRAs from GDrive\n",
    "%cd /content/Fooocus/models/loras\n",
    "# Nicole LoRA\n",
    "#!gdown 1aEWE8dfbLshbCTSxPG-oc8s3XumoT0PC # V23\n",
    "#!gdown 1PipJCumojqwz2r_kgJ1L0XopUeKAkNJU # V24.0\n",
    "#!gdown 1i4qFoHANsVOK4Ko_xj9XZA_4eTkVPHNg # V24.1\n",
    "!gdown 16a55chluH-n8ZfSfcRRCv3H5oKS1Zjqn # V26\n",
    "!gdown 11yFDhkrRLn7Fu1JA8CKup0jeoNDksoXO # Shard V1\n",
    "\n",
    "%cd /content/Fooocus\n",
    "!python entry_with_update.py --share --attention-split --preset autismmix --vae-in-fp16 --all-in-fp16\n",
    "\n",
    "# --always-high-vram\n"
   ]
  }
 ],
 "metadata": {
  "accelerator": "GPU",
  "colab": {
   "gpuType": "T4",
   "provenance": []
  },
  "kernelspec": {
   "display_name": "Python 3",
   "name": "python3"
  },
  "language_info": {
   "name": "python"
  }
 },
 "nbformat": 4,
 "nbformat_minor": 0
}
